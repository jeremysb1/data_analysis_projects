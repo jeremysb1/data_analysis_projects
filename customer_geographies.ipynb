{
  "nbformat": 4,
  "nbformat_minor": 0,
  "metadata": {
    "colab": {
      "provenance": [],
      "mount_file_id": "1OhlKDDvS2NYUQxuOXxedZ3R4Ht_G0owP",
      "authorship_tag": "ABX9TyPLaTl/uQi9UqN2398/Vqzp",
      "include_colab_link": true
    },
    "kernelspec": {
      "name": "python3",
      "display_name": "Python 3"
    },
    "language_info": {
      "name": "python"
    }
  },
  "cells": [
    {
      "cell_type": "markdown",
      "metadata": {
        "id": "view-in-github",
        "colab_type": "text"
      },
      "source": [
        "<a href=\"https://colab.research.google.com/github/jeremysb1/data_analysis_projects/blob/main/customer_geographies.ipynb\" target=\"_parent\"><img src=\"https://colab.research.google.com/assets/colab-badge.svg\" alt=\"Open In Colab\"/></a>"
      ]
    },
    {
      "cell_type": "code",
      "execution_count": 1,
      "metadata": {
        "colab": {
          "base_uri": "https://localhost:8080/"
        },
        "id": "yTEOyHmNH999",
        "outputId": "d7a55ba8-6106-4e18-ab08-4353227f09ab"
      },
      "outputs": [
        {
          "output_type": "stream",
          "name": "stdout",
          "text": [
            "(100000, 3)\n"
          ]
        }
      ],
      "source": [
        "import pandas as pd\n",
        "customers = pd.read_csv(\"/content/drive/MyDrive/Data Analysis Projects/Project 1/addresses.csv\")\n",
        "print(customers.shape)"
      ]
    },
    {
      "cell_type": "code",
      "source": [
        "customers.isnull().sum()"
      ],
      "metadata": {
        "colab": {
          "base_uri": "https://localhost:8080/"
        },
        "id": "JaZEOitcJeX6",
        "outputId": "9824ed05-d39e-4dfe-f751-682806f67929"
      },
      "execution_count": 2,
      "outputs": [
        {
          "output_type": "execute_result",
          "data": {
            "text/plain": [
              "company_id       0\n",
              "address        968\n",
              "total_spend      0\n",
              "dtype: int64"
            ]
          },
          "metadata": {},
          "execution_count": 2
        }
      ]
    },
    {
      "cell_type": "code",
      "source": [
        "customers.dropna(subset=[\"address\"], inplace=True)"
      ],
      "metadata": {
        "id": "F-tv9v3SJjNc"
      },
      "execution_count": 3,
      "outputs": []
    },
    {
      "cell_type": "code",
      "source": [
        "customers[\"total_spend\"].describe()"
      ],
      "metadata": {
        "colab": {
          "base_uri": "https://localhost:8080/"
        },
        "id": "SjNncAFJKJLF",
        "outputId": "d7ca92c4-fc08-49ef-c6dd-2f5b5263bf34"
      },
      "execution_count": 4,
      "outputs": [
        {
          "output_type": "execute_result",
          "data": {
            "text/plain": [
              "count    99032.000000\n",
              "mean      4951.673197\n",
              "std       1500.642398\n",
              "min          0.000000\n",
              "25%       3900.000000\n",
              "50%       5000.000000\n",
              "75%       6000.000000\n",
              "max      11700.000000\n",
              "Name: total_spend, dtype: float64"
            ]
          },
          "metadata": {},
          "execution_count": 4
        }
      ]
    },
    {
      "cell_type": "code",
      "source": [
        "for address in customers[\"address\"].head():\n",
        "  print(address, \"\\n\")"
      ],
      "metadata": {
        "colab": {
          "base_uri": "https://localhost:8080/"
        },
        "id": "GeuHU7eUKRe9",
        "outputId": "d09dc3ff-14bd-4d63-e3c3-daffc7feff6e"
      },
      "execution_count": 5,
      "outputs": [
        {
          "output_type": "stream",
          "name": "stdout",
          "text": [
            "APARTMENT 2,\n",
            "52 BEDFORD ROAD,\n",
            "LONDON,\n",
            "ENGLAND,\n",
            "SW4 7HJ \n",
            "\n",
            "107 SHERINGHAM AVENUE,\n",
            "LONDON,\n",
            "N14 4UJ \n",
            "\n",
            "43 SUNNINGDALE,\n",
            "YATE,\n",
            "BRISTOL,\n",
            "ENGLAND,\n",
            "BS37 4HZ \n",
            "\n",
            "HAWESWATER HOUSE,\n",
            "LINGLEY MERE BUSINESS PARK,\n",
            "LINGLEY GREEN AVENUE,\n",
            "GREAT SANKEY, WARRINGTON,\n",
            "WA5 3LP \n",
            "\n",
            "AMBERFIELD BARN HOUSE AMBER LANE,\n",
            "CHART SUTTON,\n",
            "MAIDSTONE,\n",
            "ENGLAND,\n",
            "ME17 3SF \n",
            "\n"
          ]
        }
      ]
    },
    {
      "cell_type": "code",
      "source": [
        "customers[\"address_clean\"] = customers[\"address\"].str.upper()"
      ],
      "metadata": {
        "id": "OECbDFEsLSzb"
      },
      "execution_count": 6,
      "outputs": []
    },
    {
      "cell_type": "code",
      "source": [
        "len(customers[customers[\"address_clean\"].str.contains(\"LONDON\")])\n",
        "len(customers[customers[\"address_clean\"].str.contains(\"LONDON,\")])"
      ],
      "metadata": {
        "colab": {
          "base_uri": "https://localhost:8080/"
        },
        "id": "J8fe7sZpLh1h",
        "outputId": "ff0dffb9-a4af-4346-d969-9b17a07eeddf"
      },
      "execution_count": 8,
      "outputs": [
        {
          "output_type": "execute_result",
          "data": {
            "text/plain": [
              "20831"
            ]
          },
          "metadata": {},
          "execution_count": 8
        }
      ]
    },
    {
      "cell_type": "code",
      "source": [
        "customers[\"address_lines\"] = (\n",
        "    customers[\"address_clean\"]\n",
        "    .str.split(\",\\n\")\n",
        "    .apply(len)\n",
        ")\n",
        "customers[\"address_lines\"].value_counts().sort_index()"
      ],
      "metadata": {
        "colab": {
          "base_uri": "https://localhost:8080/"
        },
        "id": "iJgyp0-pOkkW",
        "outputId": "adb68866-924e-4edc-bc98-39ddf596e612"
      },
      "execution_count": 10,
      "outputs": [
        {
          "output_type": "execute_result",
          "data": {
            "text/plain": [
              "1        6\n",
              "2       52\n",
              "3     3284\n",
              "4    35850\n",
              "5    45931\n",
              "6    13909\n",
              "Name: address_lines, dtype: int64"
            ]
          },
          "metadata": {},
          "execution_count": 10
        }
      ]
    },
    {
      "cell_type": "markdown",
      "source": [],
      "metadata": {
        "id": "FdgHoo1cOXTj"
      }
    }
  ]
}