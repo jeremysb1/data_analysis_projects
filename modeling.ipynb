{
  "nbformat": 4,
  "nbformat_minor": 0,
  "metadata": {
    "colab": {
      "provenance": [],
      "mount_file_id": "1A0uNqxiHt4dlA8XmOdgjyKwLzu75pdUp",
      "authorship_tag": "ABX9TyNq2k8SQRenAUsAwSVoTT0J",
      "include_colab_link": true
    },
    "kernelspec": {
      "name": "python3",
      "display_name": "Python 3"
    },
    "language_info": {
      "name": "python"
    }
  },
  "cells": [
    {
      "cell_type": "markdown",
      "metadata": {
        "id": "view-in-github",
        "colab_type": "text"
      },
      "source": [
        "<a href=\"https://colab.research.google.com/github/jeremysb1/data_analysis_projects/blob/main/modeling.ipynb\" target=\"_parent\"><img src=\"https://colab.research.google.com/assets/colab-badge.svg\" alt=\"Open In Colab\"/></a>"
      ]
    },
    {
      "cell_type": "code",
      "execution_count": null,
      "metadata": {
        "id": "qds9Ovl-JHXF"
      },
      "outputs": [],
      "source": []
    },
    {
      "cell_type": "markdown",
      "source": [
        "# Data Modeling\n",
        "\n",
        "This project seeks to answer the question:\n",
        "\n",
        "How many customers does this business have?\n",
        "\n",
        "I will combine multiple data sources into a single dataset representing a customer data model."
      ],
      "metadata": {
        "id": "X8szZNKqJL00"
      }
    },
    {
      "cell_type": "markdown",
      "source": [
        "## Part 1: Exploring, extracting, and combining customer data"
      ],
      "metadata": {
        "id": "nEp8ZRz6hXXw"
      }
    },
    {
      "cell_type": "code",
      "source": [
        "import pandas as pd\n",
        "import numpy as np\n",
        "\n",
        "sales = pd.read_csv('/content/drive/MyDrive/Data Analysis Projects/Data Modeling/purchases.csv')\n",
        "print(sales.shape)"
      ],
      "metadata": {
        "colab": {
          "base_uri": "https://localhost:8080/"
        },
        "id": "oBD9q4KzhZGm",
        "outputId": "b14b77bc-53f6-4c4e-f571-3641f96ec362"
      },
      "execution_count": 1,
      "outputs": [
        {
          "output_type": "stream",
          "name": "stdout",
          "text": [
            "(71519, 11)\n"
          ]
        }
      ]
    },
    {
      "cell_type": "code",
      "source": [
        "sales.isnull().sum()"
      ],
      "metadata": {
        "colab": {
          "base_uri": "https://localhost:8080/"
        },
        "id": "-TCTWw0HjRcl",
        "outputId": "d3d9c551-3ff3-4b28-e0be-1c5ce39fc5bf"
      },
      "execution_count": 2,
      "outputs": [
        {
          "output_type": "execute_result",
          "data": {
            "text/plain": [
              "event_time              0\n",
              "product_id              0\n",
              "category_id             0\n",
              "category_code       16739\n",
              "brand                5707\n",
              "price                   0\n",
              "session_id              0\n",
              "customer_id         18448\n",
              "guest_first_name    53071\n",
              "guest_surname       53071\n",
              "guest_postcode      53071\n",
              "dtype: int64"
            ]
          },
          "metadata": {},
          "execution_count": 2
        }
      ]
    },
    {
      "cell_type": "markdown",
      "source": [
        "Creating a new column to track guest checkouts, which happen when a customer ID is not provided."
      ],
      "metadata": {
        "id": "XK8TS4t9jpYt"
      }
    },
    {
      "cell_type": "code",
      "source": [
        "sales['guest-checkout'] = sales['customer_id'].isnull()"
      ],
      "metadata": {
        "id": "9pAut0_Yjrtm"
      },
      "execution_count": 3,
      "outputs": []
    }
  ]
}