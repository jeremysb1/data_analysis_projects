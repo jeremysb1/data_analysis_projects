{
  "nbformat": 4,
  "nbformat_minor": 0,
  "metadata": {
    "colab": {
      "provenance": [],
      "authorship_tag": "ABX9TyOWiPE5Y3Z/y8Xuh8XAGqS+",
      "include_colab_link": true
    },
    "kernelspec": {
      "name": "python3",
      "display_name": "Python 3"
    },
    "language_info": {
      "name": "python"
    }
  },
  "cells": [
    {
      "cell_type": "markdown",
      "metadata": {
        "id": "view-in-github",
        "colab_type": "text"
      },
      "source": [
        "<a href=\"https://colab.research.google.com/github/jeremysb1/data_analysis_projects/blob/main/modeling.ipynb\" target=\"_parent\"><img src=\"https://colab.research.google.com/assets/colab-badge.svg\" alt=\"Open In Colab\"/></a>"
      ]
    },
    {
      "cell_type": "code",
      "execution_count": null,
      "metadata": {
        "id": "qds9Ovl-JHXF"
      },
      "outputs": [],
      "source": []
    },
    {
      "cell_type": "markdown",
      "source": [
        "# Data Modeling\n",
        "\n",
        "This project seeks to answer the question:\n",
        "\n",
        "How manay customers does this business have?\n",
        "\n",
        "I will combine multiple data sources into a single dataset representing a customer data model."
      ],
      "metadata": {
        "id": "X8szZNKqJL00"
      }
    }
  ]
}