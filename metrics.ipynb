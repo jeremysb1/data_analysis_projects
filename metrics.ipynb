{
  "nbformat": 4,
  "nbformat_minor": 0,
  "metadata": {
    "colab": {
      "provenance": [],
      "mount_file_id": "1eBIUUyJtWfZ63n19CkIn5tfSUxWek93P",
      "authorship_tag": "ABX9TyMvQDDaBQgzKnJiMYVYC1hI",
      "include_colab_link": true
    },
    "kernelspec": {
      "name": "python3",
      "display_name": "Python 3"
    },
    "language_info": {
      "name": "python"
    }
  },
  "cells": [
    {
      "cell_type": "markdown",
      "metadata": {
        "id": "view-in-github",
        "colab_type": "text"
      },
      "source": [
        "<a href=\"https://colab.research.google.com/github/jeremysb1/data_analysis_projects/blob/main/metrics.ipynb\" target=\"_parent\"><img src=\"https://colab.research.google.com/assets/colab-badge.svg\" alt=\"Open In Colab\"/></a>"
      ]
    },
    {
      "cell_type": "code",
      "execution_count": null,
      "metadata": {
        "id": "UfWtn9JNbZn2"
      },
      "outputs": [],
      "source": []
    },
    {
      "cell_type": "markdown",
      "source": [
        "# Metrics Project\n",
        "\n",
        "The business has just been through its first winter sale. Stakeholders are interested in knowing which products performed best during the Christmas period so they can streamline the products they advertise in future sale periods.\n",
        "\n",
        "I will do this by analyzing up to two months of events data, presented as two separate data sources with identical structures. Events refer not just to sales but to more general customer actions, such as viewing a product on the website or placing it into their virtual cart.\n",
        "\n",
        "Some aspects they care about when ranking their products:\n",
        "\n",
        "*  Volume of sales;\n",
        "*  Total revenue from a single product;\n",
        "*  Popularity measured by the number of unique customers who bought a product;\n",
        "*  Conversion, meaning the percentage of time a product is bought once it has been placed in the virtual shopping cart; and\n",
        "*  Products with increased performance from November to December.\n",
        "\n",
        "The output of the analysis should be recommendations of the best-performing products on whichever dimension(s) I choose.\n",
        "\n",
        "The recommendation could be for single product IDs or broader ones relating to brands or product categories, as long as your choice of “best” product is justified by my analysis.\n",
        "`\n"
      ],
      "metadata": {
        "id": "ZUF2htBtbp3a"
      }
    },
    {
      "cell_type": "markdown",
      "source": [
        "A Minimum Viable Answer should contain:\n",
        "\n",
        "- Measurements of our chosen metrics at a product level (e.g., a table of total revenue in December by product, sorted in descending revenue order)\n",
        "- A ranking so we can highlight top performers\n",
        "Justifications for which metrics were chosen\n",
        "- A summary of our findings in tabular or visual form\n",
        "- Recommendations for further iterations (if requested)\n",
        "\n"
      ],
      "metadata": {
        "id": "V_6PQU8vh2mc"
      }
    },
    {
      "cell_type": "code",
      "source": [
        "import pandas as pd\n",
        "import numpy as np\n",
        "import matplotlib.pyplot as plt\n",
        "\n",
        "november = pd.read_csv('/content/drive/MyDrive/Data Analysis Projects/Metrics/november.csv')\n",
        "december = pd.read_csv('/content/drive/MyDrive/Data Analysis Projects/Metrics/december.csv')\n",
        "\n",
        "events = pd.concat([november, december], axis=0, ignore_index=True)\n",
        "print(events.shape)"
      ],
      "metadata": {
        "colab": {
          "base_uri": "https://localhost:8080/"
        },
        "id": "tdBt8P1Ac1q9",
        "outputId": "ec98e091-05d1-4c14-bf52-8b3f037bf552"
      },
      "execution_count": 1,
      "outputs": [
        {
          "output_type": "stream",
          "name": "stdout",
          "text": [
            "(7033125, 9)\n"
          ]
        }
      ]
    },
    {
      "cell_type": "code",
      "source": [
        "events.isnull().sum()"
      ],
      "metadata": {
        "colab": {
          "base_uri": "https://localhost:8080/"
        },
        "id": "lcrAxffOmOHo",
        "outputId": "cccc000a-2f44-4d0a-d658-57f298f750f5"
      },
      "execution_count": 2,
      "outputs": [
        {
          "output_type": "execute_result",
          "data": {
            "text/plain": [
              "event_time            0\n",
              "event_type            0\n",
              "product_id            0\n",
              "category_id           0\n",
              "category_code         0\n",
              "brand            395108\n",
              "price                 0\n",
              "user_id               0\n",
              "user_session         27\n",
              "dtype: int64"
            ]
          },
          "metadata": {},
          "execution_count": 2
        }
      ]
    },
    {
      "cell_type": "code",
      "source": [
        "events[\"event_time\"] = pd.to_datetime(events[\"event_time\"], format=\"%Y-%m-%d %H:%M:%S %Z\")\n",
        "events[\"event_time\"].agg([\"min\", \"max\"])"
      ],
      "metadata": {
        "colab": {
          "base_uri": "https://localhost:8080/"
        },
        "id": "KwUzWPoFnSIh",
        "outputId": "9489ae79-ccb9-4f08-c3c2-99e4744dfd2d"
      },
      "execution_count": 3,
      "outputs": [
        {
          "output_type": "execute_result",
          "data": {
            "text/plain": [
              "min   2019-11-01 00:00:14+00:00\n",
              "max   2019-12-31 23:59:09+00:00\n",
              "Name: event_time, dtype: datetime64[ns, UTC]"
            ]
          },
          "metadata": {},
          "execution_count": 3
        }
      ]
    },
    {
      "cell_type": "code",
      "source": [
        "(\n",
        "    events\n",
        "    .assign(month=events[\"event_time\"].dt.month,\n",
        "            day=events[\"event_time\"].dt.day)\n",
        "    .groupby(\"month\")\n",
        "    [\"day\"]\n",
        "    .nunique()\n",
        ")"
      ],
      "metadata": {
        "colab": {
          "base_uri": "https://localhost:8080/"
        },
        "id": "Oki8tuvcxmMo",
        "outputId": "7b038c8d-0d61-486c-ff16-102c056c5951"
      },
      "execution_count": 4,
      "outputs": [
        {
          "output_type": "execute_result",
          "data": {
            "text/plain": [
              "month\n",
              "11    30\n",
              "12    31\n",
              "Name: day, dtype: int64"
            ]
          },
          "metadata": {},
          "execution_count": 4
        }
      ]
    },
    {
      "cell_type": "code",
      "source": [
        "fig, axis = plt.subplots(figsize=(10, 6))\n",
        "\n",
        "(\n",
        "    events\n",
        "    .assign(month=events[\"event_time\"].dt.month, day=events[\"event_time\"].dt.day)\n",
        "    .groupby([\"month\", \"day\"])\n",
        "    .size()\n",
        "    .plot\n",
        "    .bar(ax=axis)\n",
        ")\n",
        "\n",
        "labels = (\n",
        "    pd.date_range(\n",
        "        events[\"event_time\"].dt.date.min(),\n",
        "        events[\"event_time\"].dt.date.max(),\n",
        "        freq = \"D\")\n",
        "    .strftime(\"%b %d\")\n",
        ")\n",
        "\n",
        "axis.set(title=\"Number of events per calendar day\",\n",
        "         xlabel=\"Number of rows\",\n",
        "         ylabel=\"Calendar day\",\n",
        "         xticklabels=labels)\n",
        "\n",
        "plt.show()"
      ],
      "metadata": {
        "colab": {
          "base_uri": "https://localhost:8080/",
          "height": 599
        },
        "id": "pQIIyzxakPxH",
        "outputId": "6222357e-19ed-4516-a600-d4d22ea641ff"
      },
      "execution_count": 5,
      "outputs": [
        {
          "output_type": "display_data",
          "data": {
            "text/plain": [
              "<Figure size 1000x600 with 1 Axes>"
            ],
            "image/png": "[encoded data removed]"
          },
          "metadata": {}
        }
      ]
    },
    {
      "cell_type": "code",
      "source": [
        "events[\"event_type\"].value_counts(dropna=False)"
      ],
      "metadata": {
        "colab": {
          "base_uri": "https://localhost:8080/"
        },
        "id": "QbzLboCtr7vE",
        "outputId": "53faf9cc-c8c6-452d-e222-97e78fc1a7bb"
      },
      "execution_count": 6,
      "outputs": [
        {
          "output_type": "execute_result",
          "data": {
            "text/plain": [
              "event_type\n",
              "cart        5276372\n",
              "purchase    1756753\n",
              "Name: count, dtype: int64"
            ]
          },
          "metadata": {},
          "execution_count": 6
        }
      ]
    },
    {
      "cell_type": "code",
      "source": [
        "fig, axis = plt.subplots()\n",
        "\n",
        "(\n",
        "    events[\"price\"]\n",
        "    .hist(bins=25, ax=axis)\n",
        ")\n",
        "\n",
        "#disable scientific notation\n",
        "axis.ticklabel_format(useOffset=False, style='plain')\n",
        "\n",
        "axis.set(title=\"Distribution of product price\",\n",
        "         xlabel=\"Sale price ($)\",\n",
        "         ylabel=\"Frequency\")\n",
        "\n",
        "plt.show()"
      ],
      "metadata": {
        "colab": {
          "base_uri": "https://localhost:8080/",
          "height": 472
        },
        "id": "FfjLGtLPsJPT",
        "outputId": "069ce0f0-ed55-432e-c5c6-ae3144536f1a"
      },
      "execution_count": 7,
      "outputs": [
        {
          "output_type": "display_data",
          "data": {
            "text/plain": [
              "<Figure size 640x480 with 1 Axes>"
            ],
            "image/png": "[encoded data removed]"
          },
          "metadata": {}
        }
      ]
    },
    {
      "cell_type": "code",
      "source": [
        "events[\"brand\"].value_counts().head(10)"
      ],
      "metadata": {
        "colab": {
          "base_uri": "https://localhost:8080/"
        },
        "id": "fGojTH9xtRX3",
        "outputId": "81723df7-eef8-422c-ee93-c51be649a3e6"
      },
      "execution_count": 8,
      "outputs": [
        {
          "output_type": "execute_result",
          "data": {
            "text/plain": [
              "brand\n",
              "samsung    1756284\n",
              "apple      1368364\n",
              "xiaomi      722125\n",
              "huawei      263155\n",
              "oppo        128661\n",
              "lg          123581\n",
              "sony         78615\n",
              "artel        72124\n",
              "lucente      69998\n",
              "lenovo       59700\n",
              "Name: count, dtype: int64"
            ]
          },
          "metadata": {},
          "execution_count": 8
        }
      ]
    },
    {
      "cell_type": "markdown",
      "source": [
        "## Are products correctly categorized?\n",
        "\n",
        "One way to check this is to ask: do we have any product IDs that are assigned to multiple categories?"
      ],
      "metadata": {
        "id": "PrOXy2eGtigt"
      }
    },
    {
      "cell_type": "code",
      "source": [
        "(\n",
        "    events\n",
        "    .groupby(\"product_id\")\n",
        "    [\"category_code\"]\n",
        "    .nunique()\n",
        "    .loc[lambda x: x > 1]\n",
        "    .sort_values(ascending=False)\n",
        ")"
      ],
      "metadata": {
        "colab": {
          "base_uri": "https://localhost:8080/"
        },
        "id": "2BI-1BFhtlyR",
        "outputId": "658199a3-cb4c-4ecb-897b-e79ff4368e7e"
      },
      "execution_count": 9,
      "outputs": [
        {
          "output_type": "execute_result",
          "data": {
            "text/plain": [
              "product_id\n",
              "1000978      2\n",
              "13900087     2\n",
              "13900049     2\n",
              "13900054     2\n",
              "13900055     2\n",
              "            ..\n",
              "5701183      2\n",
              "5701186      2\n",
              "5701190      2\n",
              "5701192      2\n",
              "100028003    2\n",
              "Name: category_code, Length: 12884, dtype: int64"
            ]
          },
          "metadata": {},
          "execution_count": 9
        }
      ]
    },
    {
      "cell_type": "code",
      "source": [
        "events[\"category_code\"].value_counts().head(10)"
      ],
      "metadata": {
        "colab": {
          "base_uri": "https://localhost:8080/"
        },
        "id": "czdTf5-wvlar",
        "outputId": "4f4410c5-75b5-4068-95fb-93b8de016814"
      },
      "execution_count": 10,
      "outputs": [
        {
          "output_type": "execute_result",
          "data": {
            "text/plain": [
              "category_code\n",
              "construction.tools.light            1823398\n",
              "electronics.smartphone              1577185\n",
              "electronics.audio.headphone          240308\n",
              "electronics.clocks                   233198\n",
              "sport.bicycle                        231644\n",
              "apparel.shoes                        212586\n",
              "appliances.kitchen.refrigerators     190523\n",
              "appliances.personal.massager         185601\n",
              "appliances.environment.vacuum        170290\n",
              "appliances.kitchen.washer            170121\n",
              "Name: count, dtype: int64"
            ]
          },
          "metadata": {},
          "execution_count": 10
        }
      ]
    },
    {
      "cell_type": "code",
      "source": [
        "(\n",
        "    events\n",
        "    .loc[events[\"category_code\"] == \"construction.tools.light\", \"brand\"]\n",
        "    .value_counts()\n",
        "    .head(10)\n",
        ")"
      ],
      "metadata": {
        "colab": {
          "base_uri": "https://localhost:8080/"
        },
        "id": "PbXJ7Ssi8Dqi",
        "outputId": "bfbb94cd-0706-4b4b-fa65-da9314ffdbc9"
      },
      "execution_count": 11,
      "outputs": [
        {
          "output_type": "execute_result",
          "data": {
            "text/plain": [
              "brand\n",
              "samsung    727599\n",
              "apple      521481\n",
              "xiaomi     304546\n",
              "huawei     149347\n",
              "oppo        68446\n",
              "vivo        10709\n",
              "meizu        9093\n",
              "honor        4389\n",
              "nokia        3231\n",
              "omron        3003\n",
              "Name: count, dtype: int64"
            ]
          },
          "metadata": {},
          "execution_count": 11
        }
      ]
    },
    {
      "cell_type": "code",
      "source": [
        "dupe_product_ids = (\n",
        "    events\n",
        "    .groupby(\"product_id\")\n",
        "    [\"category_code\"]\n",
        "    .nunique()\n",
        "    .loc[lambda x: x > 1]\n",
        "    .index\n",
        "    .values\n",
        ")\n",
        "\n",
        "dupe_product_ids[:10]"
      ],
      "metadata": {
        "colab": {
          "base_uri": "https://localhost:8080/"
        },
        "id": "oqInkKzk_NfZ",
        "outputId": "39d63dc3-3290-45ad-b9ee-b3afa7d58960"
      },
      "execution_count": 12,
      "outputs": [
        {
          "output_type": "execute_result",
          "data": {
            "text/plain": [
              "array([1000978, 1001588, 1001618, 1001619, 1002098, 1002100, 1002101,\n",
              "       1002225, 1002367, 1002482])"
            ]
          },
          "metadata": {},
          "execution_count": 12
        }
      ]
    },
    {
      "cell_type": "code",
      "source": [
        "(\n",
        "    events.loc[events[\"product_id\"] == 1001588, \"category_code\"].value_counts()\n",
        ")"
      ],
      "metadata": {
        "colab": {
          "base_uri": "https://localhost:8080/"
        },
        "id": "ceWQ-UZiL_16",
        "outputId": "fc356212-c666-4dbd-a498-56426aa12998"
      },
      "execution_count": 13,
      "outputs": [
        {
          "output_type": "execute_result",
          "data": {
            "text/plain": [
              "category_code\n",
              "construction.tools.light    50\n",
              "electronics.smartphone      22\n",
              "Name: count, dtype: int64"
            ]
          },
          "metadata": {},
          "execution_count": 13
        }
      ]
    },
    {
      "cell_type": "code",
      "source": [
        "def get_correct_category_code(product_id_rows):\n",
        "    # product_id_rows is all rows for a given product ID\n",
        "    # so we can find the two categories associated with this ID\n",
        "    categories = product_id_rows[\"category_code\"].value_counts()\n",
        "\n",
        "    if \"construction.tools.light\" in categories.index:\n",
        "        return categories.index.drop(\"construction.tools.light\").values[0]\n",
        "\n",
        "    else:\n",
        "        return categories.index[0]\n",
        "\n",
        "corrected_categories = (\n",
        "    events[events[\"product_id\"].isin(dupe_product_ids)]\n",
        "    .groupby(\"product_id\")\n",
        "    .apply(get_correct_category_code)\n",
        "    .reset_index(name=\"corrected_category\")\n",
        ")\n",
        "\n",
        "corrected_categories.head()"
      ],
      "metadata": {
        "colab": {
          "base_uri": "https://localhost:8080/",
          "height": 206
        },
        "id": "6idNbdkXOUf4",
        "outputId": "cc8a1191-1323-4cc8-f972-9af1e82d226c"
      },
      "execution_count": 14,
      "outputs": [
        {
          "output_type": "execute_result",
          "data": {
            "text/plain": [
              "   product_id      corrected_category\n",
              "0     1000978  electronics.smartphone\n",
              "1     1001588  electronics.smartphone\n",
              "2     1001618  electronics.smartphone\n",
              "3     1001619  electronics.smartphone\n",
              "4     1002098  electronics.smartphone"
            ],
            "text/html": [
              "\n",
              "  <div id=\"df-3d13f2d1-2560-4217-abaa-18075f41aa87\" class=\"colab-df-container\">\n",
              "    <div>\n",
              "<style scoped>\n",
              "    .dataframe tbody tr th:only-of-type {\n",
              "        vertical-align: middle;\n",
              "    }\n",
              "\n",
              "    .dataframe tbody tr th {\n",
              "        vertical-align: top;\n",
              "    }\n",
              "\n",
              "    .dataframe thead th {\n",
              "        text-align: right;\n",
              "    }\n",
              "</style>\n",
              "<table border=\"1\" class=\"dataframe\">\n",
              "  <thead>\n",
              "    <tr style=\"text-align: right;\">\n",
              "      <th></th>\n",
              "      <th>product_id</th>\n",
              "      <th>corrected_category</th>\n",
              "    </tr>\n",
              "  </thead>\n",
              "  <tbody>\n",
              "    <tr>\n",
              "      <th>0</th>\n",
              "      <td>1000978</td>\n",
              "      <td>electronics.smartphone</td>\n",
              "    </tr>\n",
              "    <tr>\n",
              "      <th>1</th>\n",
              "      <td>1001588</td>\n",
              "      <td>electronics.smartphone</td>\n",
              "    </tr>\n",
              "    <tr>\n",
              "      <th>2</th>\n",
              "      <td>1001618</td>\n",
              "      <td>electronics.smartphone</td>\n",
              "    </tr>\n",
              "    <tr>\n",
              "      <th>3</th>\n",
              "      <td>1001619</td>\n",
              "      <td>electronics.smartphone</td>\n",
              "    </tr>\n",
              "    <tr>\n",
              "      <th>4</th>\n",
              "      <td>1002098</td>\n",
              "      <td>electronics.smartphone</td>\n",
              "    </tr>\n",
              "  </tbody>\n",
              "</table>\n",
              "</div>\n",
              "    <div class=\"colab-df-buttons\">\n",
              "\n",
              "  <div class=\"colab-df-container\">\n",
              "    <button class=\"colab-df-convert\" onclick=\"convertToInteractive('df-3d13f2d1-2560-4217-abaa-18075f41aa87')\"\n",
              "            title=\"Convert this dataframe to an interactive table.\"\n",
              "            style=\"display:none;\">\n",
              "\n",
              "  <svg xmlns=\"http://www.w3.org/2000/svg\" height=\"24px\" viewBox=\"0 -960 960 960\">\n",
              "    <path d=\"M120-120v-720h720v720H120Zm60-500h600v-160H180v160Zm220 220h160v-160H400v160Zm0 220h160v-160H400v160ZM180-400h160v-160H180v160Zm440 0h160v-160H620v160ZM180-180h160v-160H180v160Zm440 0h160v-160H620v160Z\"/>\n",
              "  </svg>\n",
              "    </button>\n",
              "\n",
              "  <style>\n",
              "    .colab-df-container {\n",
              "      display:flex;\n",
              "      gap: 12px;\n",
              "    }\n",
              "\n",
              "    .colab-df-convert {\n",
              "      background-color: #E8F0FE;\n",
              "      border: none;\n",
              "      border-radius: 50%;\n",
              "      cursor: pointer;\n",
              "      display: none;\n",
              "      fill: #1967D2;\n",
              "      height: 32px;\n",
              "      padding: 0 0 0 0;\n",
              "      width: 32px;\n",
              "    }\n",
              "\n",
              "    .colab-df-convert:hover {\n",
              "      background-color: #E2EBFA;\n",
              "      box-shadow: 0px 1px 2px rgba(60, 64, 67, 0.3), 0px 1px 3px 1px rgba(60, 64, 67, 0.15);\n",
              "      fill: #174EA6;\n",
              "    }\n",
              "\n",
              "    .colab-df-buttons div {\n",
              "      margin-bottom: 4px;\n",
              "    }\n",
              "\n",
              "    [theme=dark] .colab-df-convert {\n",
              "      background-color: #3B4455;\n",
              "      fill: #D2E3FC;\n",
              "    }\n",
              "\n",
              "    [theme=dark] .colab-df-convert:hover {\n",
              "      background-color: #434B5C;\n",
              "      box-shadow: 0px 1px 3px 1px rgba(0, 0, 0, 0.15);\n",
              "      filter: drop-shadow(0px 1px 2px rgba(0, 0, 0, 0.3));\n",
              "      fill: #FFFFFF;\n",
              "    }\n",
              "  </style>\n",
              "\n",
              "    <script>\n",
              "      const buttonEl =\n",
              "        document.querySelector('#df-3d13f2d1-2560-4217-abaa-18075f41aa87 button.colab-df-convert');\n",
              "      buttonEl.style.display =\n",
              "        google.colab.kernel.accessAllowed ? 'block' : 'none';\n",
              "\n",
              "      async function convertToInteractive(key) {\n",
              "        const element = document.querySelector('#df-3d13f2d1-2560-4217-abaa-18075f41aa87');\n",
              "        const dataTable =\n",
              "          await google.colab.kernel.invokeFunction('convertToInteractive',\n",
              "                                                    [key], {});\n",
              "        if (!dataTable) return;\n",
              "\n",
              "        const docLinkHtml = 'Like what you see? Visit the ' +\n",
              "          '<a target=\"_blank\" href=https://colab.research.google.com/notebooks/data_table.ipynb>data table notebook</a>'\n",
              "          + ' to learn more about interactive tables.';\n",
              "        element.innerHTML = '';\n",
              "        dataTable['output_type'] = 'display_data';\n",
              "        await google.colab.output.renderOutput(dataTable, element);\n",
              "        const docLink = document.createElement('div');\n",
              "        docLink.innerHTML = docLinkHtml;\n",
              "        element.appendChild(docLink);\n",
              "      }\n",
              "    </script>\n",
              "  </div>\n",
              "\n",
              "\n",
              "<div id=\"df-aef08eca-c26a-4d29-b44b-54d858119f23\">\n",
              "  <button class=\"colab-df-quickchart\" onclick=\"quickchart('df-aef08eca-c26a-4d29-b44b-54d858119f23')\"\n",
              "            title=\"Suggest charts\"\n",
              "            style=\"display:none;\">\n",
              "\n",
              "<svg xmlns=\"http://www.w3.org/2000/svg\" height=\"24px\"viewBox=\"0 0 24 24\"\n",
              "     width=\"24px\">\n",
              "    <g>\n",
              "        <path d=\"M19 3H5c-1.1 0-2 .9-2 2v14c0 1.1.9 2 2 2h14c1.1 0 2-.9 2-2V5c0-1.1-.9-2-2-2zM9 17H7v-7h2v7zm4 0h-2V7h2v10zm4 0h-2v-4h2v4z\"/>\n",
              "    </g>\n",
              "</svg>\n",
              "  </button>\n",
              "\n",
              "<style>\n",
              "  .colab-df-quickchart {\n",
              "      --bg-color: #E8F0FE;\n",
              "      --fill-color: #1967D2;\n",
              "      --hover-bg-color: #E2EBFA;\n",
              "      --hover-fill-color: #174EA6;\n",
              "      --disabled-fill-color: #AAA;\n",
              "      --disabled-bg-color: #DDD;\n",
              "  }\n",
              "\n",
              "  [theme=dark] .colab-df-quickchart {\n",
              "      --bg-color: #3B4455;\n",
              "      --fill-color: #D2E3FC;\n",
              "      --hover-bg-color: #434B5C;\n",
              "      --hover-fill-color: #FFFFFF;\n",
              "      --disabled-bg-color: #3B4455;\n",
              "      --disabled-fill-color: #666;\n",
              "  }\n",
              "\n",
              "  .colab-df-quickchart {\n",
              "    background-color: var(--bg-color);\n",
              "    border: none;\n",
              "    border-radius: 50%;\n",
              "    cursor: pointer;\n",
              "    display: none;\n",
              "    fill: var(--fill-color);\n",
              "    height: 32px;\n",
              "    padding: 0;\n",
              "    width: 32px;\n",
              "  }\n",
              "\n",
              "  .colab-df-quickchart:hover {\n",
              "    background-color: var(--hover-bg-color);\n",
              "    box-shadow: 0 1px 2px rgba(60, 64, 67, 0.3), 0 1px 3px 1px rgba(60, 64, 67, 0.15);\n",
              "    fill: var(--button-hover-fill-color);\n",
              "  }\n",
              "\n",
              "  .colab-df-quickchart-complete:disabled,\n",
              "  .colab-df-quickchart-complete:disabled:hover {\n",
              "    background-color: var(--disabled-bg-color);\n",
              "    fill: var(--disabled-fill-color);\n",
              "    box-shadow: none;\n",
              "  }\n",
              "\n",
              "  .colab-df-spinner {\n",
              "    border: 2px solid var(--fill-color);\n",
              "    border-color: transparent;\n",
              "    border-bottom-color: var(--fill-color);\n",
              "    animation:\n",
              "      spin 1s steps(1) infinite;\n",
              "  }\n",
              "\n",
              "  @keyframes spin {\n",
              "    0% {\n",
              "      border-color: transparent;\n",
              "      border-bottom-color: var(--fill-color);\n",
              "      border-left-color: var(--fill-color);\n",
              "    }\n",
              "    20% {\n",
              "      border-color: transparent;\n",
              "      border-left-color: var(--fill-color);\n",
              "      border-top-color: var(--fill-color);\n",
              "    }\n",
              "    30% {\n",
              "      border-color: transparent;\n",
              "      border-left-color: var(--fill-color);\n",
              "      border-top-color: var(--fill-color);\n",
              "      border-right-color: var(--fill-color);\n",
              "    }\n",
              "    40% {\n",
              "      border-color: transparent;\n",
              "      border-right-color: var(--fill-color);\n",
              "      border-top-color: var(--fill-color);\n",
              "    }\n",
              "    60% {\n",
              "      border-color: transparent;\n",
              "      border-right-color: var(--fill-color);\n",
              "    }\n",
              "    80% {\n",
              "      border-color: transparent;\n",
              "      border-right-color: var(--fill-color);\n",
              "      border-bottom-color: var(--fill-color);\n",
              "    }\n",
              "    90% {\n",
              "      border-color: transparent;\n",
              "      border-bottom-color: var(--fill-color);\n",
              "    }\n",
              "  }\n",
              "</style>\n",
              "\n",
              "  <script>\n",
              "    async function quickchart(key) {\n",
              "      const quickchartButtonEl =\n",
              "        document.querySelector('#' + key + ' button');\n",
              "      quickchartButtonEl.disabled = true;  // To prevent multiple clicks.\n",
              "      quickchartButtonEl.classList.add('colab-df-spinner');\n",
              "      try {\n",
              "        const charts = await google.colab.kernel.invokeFunction(\n",
              "            'suggestCharts', [key], {});\n",
              "      } catch (error) {\n",
              "        console.error('Error during call to suggestCharts:', error);\n",
              "      }\n",
              "      quickchartButtonEl.classList.remove('colab-df-spinner');\n",
              "      quickchartButtonEl.classList.add('colab-df-quickchart-complete');\n",
              "    }\n",
              "    (() => {\n",
              "      let quickchartButtonEl =\n",
              "        document.querySelector('#df-aef08eca-c26a-4d29-b44b-54d858119f23 button');\n",
              "      quickchartButtonEl.style.display =\n",
              "        google.colab.kernel.accessAllowed ? 'block' : 'none';\n",
              "    })();\n",
              "  </script>\n",
              "</div>\n",
              "\n",
              "    </div>\n",
              "  </div>\n"
            ],
            "application/vnd.google.colaboratory.intrinsic+json": {
              "type": "dataframe",
              "variable_name": "corrected_categories",
              "summary": "{\n  \"name\": \"corrected_categories\",\n  \"rows\": 12884,\n  \"fields\": [\n    {\n      \"column\": \"product_id\",\n      \"properties\": {\n        \"dtype\": \"number\",\n        \"std\": 22090261,\n        \"min\": 1000978,\n        \"max\": 100028003,\n        \"num_unique_values\": 12884,\n        \"samples\": [\n          6701085,\n          16800029,\n          1002367\n        ],\n        \"semantic_type\": \"\",\n        \"description\": \"\"\n      }\n    },\n    {\n      \"column\": \"corrected_category\",\n      \"properties\": {\n        \"dtype\": \"category\",\n        \"num_unique_values\": 126,\n        \"samples\": [\n          \"appliances.personal.scales\",\n          \"appliances.kitchen.hood\",\n          \"apparel.jeans\"\n        ],\n        \"semantic_type\": \"\",\n        \"description\": \"\"\n      }\n    }\n  ]\n}"
            }
          },
          "metadata": {},
          "execution_count": 14
        }
      ]
    },
    {
      "cell_type": "code",
      "source": [
        "events = events.merge(corrected_categories, on=\"product_id\", how=\"left\")\n",
        "events.loc[events[\"corrected_category\"].notnull(), \"category_code\"] = \\\n",
        "    events.loc[events[\"corrected_category\"].notnull(), \"corrected_category\"]\n",
        "\n",
        "events[\"category_code\"].value_counts()"
      ],
      "metadata": {
        "colab": {
          "base_uri": "https://localhost:8080/"
        },
        "id": "4VWiWDHdQcLl",
        "outputId": "477e40bf-42dd-431b-f348-954c2d4c9cdf"
      },
      "execution_count": 15,
      "outputs": [
        {
          "output_type": "execute_result",
          "data": {
            "text/plain": [
              "category_code\n",
              "electronics.smartphone              3350680\n",
              "sport.bicycle                        384120\n",
              "appliances.personal.massager         254300\n",
              "electronics.clocks                   228546\n",
              "appliances.kitchen.refrigerators     214637\n",
              "                                     ...   \n",
              "apparel.skirt                           261\n",
              "construction.tools.soldering            200\n",
              "sport.diving                            144\n",
              "computers.components.sound_card         118\n",
              "auto.accessories.light                   41\n",
              "Name: count, Length: 134, dtype: int64"
            ]
          },
          "metadata": {},
          "execution_count": 15
        }
      ]
    },
    {
      "cell_type": "code",
      "source": [
        "events[\"category\"] = events[\"category_code\"].str.split(\".\").str[0]\n",
        "\n",
        "events = events.rename(columns={\"category_code\": \"subcategory\"})\n",
        "\n",
        "events[\"category\"].value_counts()"
      ],
      "metadata": {
        "colab": {
          "base_uri": "https://localhost:8080/"
        },
        "id": "C9OYGJ26USdL",
        "outputId": "f81fec51-e4f9-40bf-9434-1c65bf623a35"
      },
      "execution_count": 16,
      "outputs": [
        {
          "output_type": "execute_result",
          "data": {
            "text/plain": [
              "category\n",
              "electronics     3908916\n",
              "appliances      1250149\n",
              "apparel          540955\n",
              "sport            439029\n",
              "computers        291790\n",
              "furniture        216264\n",
              "construction     144637\n",
              "kids              98236\n",
              "auto              89079\n",
              "accessories       39350\n",
              "country_yard       6106\n",
              "medicine           5616\n",
              "stationery         2998\n",
              "Name: count, dtype: int64"
            ]
          },
          "metadata": {},
          "execution_count": 16
        }
      ]
    },
    {
      "cell_type": "code",
      "source": [
        "duplicated_brands = (\n",
        "    events\n",
        "    .assign(brand = events[\"brand\"].fillna(\"No brand\"))\n",
        "    .groupby(\"product_id\")\n",
        "    [\"brand\"]\n",
        "    .nunique()\n",
        "    .loc[lambda x: x > 1]\n",
        "    .index\n",
        ")\n",
        "\n",
        "print(len(duplicated_brands))\n",
        "\n",
        "duplicated_brands[:10]"
      ],
      "metadata": {
        "colab": {
          "base_uri": "https://localhost:8080/"
        },
        "id": "ibn2_8zIXO3C",
        "outputId": "15db3fda-b9d9-4202-d8f8-135c5595bc1b"
      },
      "execution_count": 17,
      "outputs": [
        {
          "output_type": "stream",
          "name": "stdout",
          "text": [
            "1245\n"
          ]
        },
        {
          "output_type": "execute_result",
          "data": {
            "text/plain": [
              "Index([1001618, 1002310, 1002786, 1002877, 1003080, 1003224, 1003238, 1003330,\n",
              "       1003604, 1003851],\n",
              "      dtype='int64', name='product_id')"
            ]
          },
          "metadata": {},
          "execution_count": 17
        }
      ]
    },
    {
      "cell_type": "code",
      "source": [
        "def get_correct_brand(product_id_rows):\n",
        "    # product_id_rows is all rows for a given product ID\n",
        "    # so we can find the brands associated with this ID\n",
        "    # value_counts will give us only non-NA values\n",
        "    brand_counts = product_id_rows[\"brand\"].value_counts(dropna=False)\n",
        "\n",
        "    if isinstance(brand_counts.index[0], str):\n",
        "        # no NULLs, just return the majority brand\n",
        "        return brand_counts.index[0]\n",
        "\n",
        "    # now if np.NaN is the only value, return it\n",
        "    if len(brand_counts) == 1:\n",
        "        return np.nan\n",
        "\n",
        "    # otherwise return the second value (the majority non-null value)\n",
        "    return brand_counts.index[1]\n",
        "\n",
        "corrected_brands = (\n",
        "    events[events[\"product_id\"].isin(duplicated_brands)]\n",
        "    .groupby(\"product_id\")\n",
        "    .apply(get_correct_brand)\n",
        "    .reset_index(name=\"corrected_brand\")\n",
        ")\n",
        "\n",
        "corrected_brands.head()"
      ],
      "metadata": {
        "colab": {
          "base_uri": "https://localhost:8080/",
          "height": 206
        },
        "id": "3Yan2WDo0adi",
        "outputId": "5a39db96-69d5-4b2b-f3e7-ba231ab34fb7"
      },
      "execution_count": 19,
      "outputs": [
        {
          "output_type": "execute_result",
          "data": {
            "text/plain": [
              "   product_id corrected_brand\n",
              "0     1001618           apple\n",
              "1     1002310              lg\n",
              "2     1002786           apple\n",
              "3     1002877         samsung\n",
              "4     1003080          huawei"
            ],
            "text/html": [
              "\n",
              "  <div id=\"df-a0d61232-0696-4222-a39b-fec3c9e87bfc\" class=\"colab-df-container\">\n",
              "    <div>\n",
              "<style scoped>\n",
              "    .dataframe tbody tr th:only-of-type {\n",
              "        vertical-align: middle;\n",
              "    }\n",
              "\n",
              "    .dataframe tbody tr th {\n",
              "        vertical-align: top;\n",
              "    }\n",
              "\n",
              "    .dataframe thead th {\n",
              "        text-align: right;\n",
              "    }\n",
              "</style>\n",
              "<table border=\"1\" class=\"dataframe\">\n",
              "  <thead>\n",
              "    <tr style=\"text-align: right;\">\n",
              "      <th></th>\n",
              "      <th>product_id</th>\n",
              "      <th>corrected_brand</th>\n",
              "    </tr>\n",
              "  </thead>\n",
              "  <tbody>\n",
              "    <tr>\n",
              "      <th>0</th>\n",
              "      <td>1001618</td>\n",
              "      <td>apple</td>\n",
              "    </tr>\n",
              "    <tr>\n",
              "      <th>1</th>\n",
              "      <td>1002310</td>\n",
              "      <td>lg</td>\n",
              "    </tr>\n",
              "    <tr>\n",
              "      <th>2</th>\n",
              "      <td>1002786</td>\n",
              "      <td>apple</td>\n",
              "    </tr>\n",
              "    <tr>\n",
              "      <th>3</th>\n",
              "      <td>1002877</td>\n",
              "      <td>samsung</td>\n",
              "    </tr>\n",
              "    <tr>\n",
              "      <th>4</th>\n",
              "      <td>1003080</td>\n",
              "      <td>huawei</td>\n",
              "    </tr>\n",
              "  </tbody>\n",
              "</table>\n",
              "</div>\n",
              "    <div class=\"colab-df-buttons\">\n",
              "\n",
              "  <div class=\"colab-df-container\">\n",
              "    <button class=\"colab-df-convert\" onclick=\"convertToInteractive('df-a0d61232-0696-4222-a39b-fec3c9e87bfc')\"\n",
              "            title=\"Convert this dataframe to an interactive table.\"\n",
              "            style=\"display:none;\">\n",
              "\n",
              "  <svg xmlns=\"http://www.w3.org/2000/svg\" height=\"24px\" viewBox=\"0 -960 960 960\">\n",
              "    <path d=\"M120-120v-720h720v720H120Zm60-500h600v-160H180v160Zm220 220h160v-160H400v160Zm0 220h160v-160H400v160ZM180-400h160v-160H180v160Zm440 0h160v-160H620v160ZM180-180h160v-160H180v160Zm440 0h160v-160H620v160Z\"/>\n",
              "  </svg>\n",
              "    </button>\n",
              "\n",
              "  <style>\n",
              "    .colab-df-container {\n",
              "      display:flex;\n",
              "      gap: 12px;\n",
              "    }\n",
              "\n",
              "    .colab-df-convert {\n",
              "      background-color: #E8F0FE;\n",
              "      border: none;\n",
              "      border-radius: 50%;\n",
              "      cursor: pointer;\n",
              "      display: none;\n",
              "      fill: #1967D2;\n",
              "      height: 32px;\n",
              "      padding: 0 0 0 0;\n",
              "      width: 32px;\n",
              "    }\n",
              "\n",
              "    .colab-df-convert:hover {\n",
              "      background-color: #E2EBFA;\n",
              "      box-shadow: 0px 1px 2px rgba(60, 64, 67, 0.3), 0px 1px 3px 1px rgba(60, 64, 67, 0.15);\n",
              "      fill: #174EA6;\n",
              "    }\n",
              "\n",
              "    .colab-df-buttons div {\n",
              "      margin-bottom: 4px;\n",
              "    }\n",
              "\n",
              "    [theme=dark] .colab-df-convert {\n",
              "      background-color: #3B4455;\n",
              "      fill: #D2E3FC;\n",
              "    }\n",
              "\n",
              "    [theme=dark] .colab-df-convert:hover {\n",
              "      background-color: #434B5C;\n",
              "      box-shadow: 0px 1px 3px 1px rgba(0, 0, 0, 0.15);\n",
              "      filter: drop-shadow(0px 1px 2px rgba(0, 0, 0, 0.3));\n",
              "      fill: #FFFFFF;\n",
              "    }\n",
              "  </style>\n",
              "\n",
              "    <script>\n",
              "      const buttonEl =\n",
              "        document.querySelector('#df-a0d61232-0696-4222-a39b-fec3c9e87bfc button.colab-df-convert');\n",
              "      buttonEl.style.display =\n",
              "        google.colab.kernel.accessAllowed ? 'block' : 'none';\n",
              "\n",
              "      async function convertToInteractive(key) {\n",
              "        const element = document.querySelector('#df-a0d61232-0696-4222-a39b-fec3c9e87bfc');\n",
              "        const dataTable =\n",
              "          await google.colab.kernel.invokeFunction('convertToInteractive',\n",
              "                                                    [key], {});\n",
              "        if (!dataTable) return;\n",
              "\n",
              "        const docLinkHtml = 'Like what you see? Visit the ' +\n",
              "          '<a target=\"_blank\" href=https://colab.research.google.com/notebooks/data_table.ipynb>data table notebook</a>'\n",
              "          + ' to learn more about interactive tables.';\n",
              "        element.innerHTML = '';\n",
              "        dataTable['output_type'] = 'display_data';\n",
              "        await google.colab.output.renderOutput(dataTable, element);\n",
              "        const docLink = document.createElement('div');\n",
              "        docLink.innerHTML = docLinkHtml;\n",
              "        element.appendChild(docLink);\n",
              "      }\n",
              "    </script>\n",
              "  </div>\n",
              "\n",
              "\n",
              "<div id=\"df-32ce75f7-2a15-48a9-bcf1-fe21a529faf4\">\n",
              "  <button class=\"colab-df-quickchart\" onclick=\"quickchart('df-32ce75f7-2a15-48a9-bcf1-fe21a529faf4')\"\n",
              "            title=\"Suggest charts\"\n",
              "            style=\"display:none;\">\n",
              "\n",
              "<svg xmlns=\"http://www.w3.org/2000/svg\" height=\"24px\"viewBox=\"0 0 24 24\"\n",
              "     width=\"24px\">\n",
              "    <g>\n",
              "        <path d=\"M19 3H5c-1.1 0-2 .9-2 2v14c0 1.1.9 2 2 2h14c1.1 0 2-.9 2-2V5c0-1.1-.9-2-2-2zM9 17H7v-7h2v7zm4 0h-2V7h2v10zm4 0h-2v-4h2v4z\"/>\n",
              "    </g>\n",
              "</svg>\n",
              "  </button>\n",
              "\n",
              "<style>\n",
              "  .colab-df-quickchart {\n",
              "      --bg-color: #E8F0FE;\n",
              "      --fill-color: #1967D2;\n",
              "      --hover-bg-color: #E2EBFA;\n",
              "      --hover-fill-color: #174EA6;\n",
              "      --disabled-fill-color: #AAA;\n",
              "      --disabled-bg-color: #DDD;\n",
              "  }\n",
              "\n",
              "  [theme=dark] .colab-df-quickchart {\n",
              "      --bg-color: #3B4455;\n",
              "      --fill-color: #D2E3FC;\n",
              "      --hover-bg-color: #434B5C;\n",
              "      --hover-fill-color: #FFFFFF;\n",
              "      --disabled-bg-color: #3B4455;\n",
              "      --disabled-fill-color: #666;\n",
              "  }\n",
              "\n",
              "  .colab-df-quickchart {\n",
              "    background-color: var(--bg-color);\n",
              "    border: none;\n",
              "    border-radius: 50%;\n",
              "    cursor: pointer;\n",
              "    display: none;\n",
              "    fill: var(--fill-color);\n",
              "    height: 32px;\n",
              "    padding: 0;\n",
              "    width: 32px;\n",
              "  }\n",
              "\n",
              "  .colab-df-quickchart:hover {\n",
              "    background-color: var(--hover-bg-color);\n",
              "    box-shadow: 0 1px 2px rgba(60, 64, 67, 0.3), 0 1px 3px 1px rgba(60, 64, 67, 0.15);\n",
              "    fill: var(--button-hover-fill-color);\n",
              "  }\n",
              "\n",
              "  .colab-df-quickchart-complete:disabled,\n",
              "  .colab-df-quickchart-complete:disabled:hover {\n",
              "    background-color: var(--disabled-bg-color);\n",
              "    fill: var(--disabled-fill-color);\n",
              "    box-shadow: none;\n",
              "  }\n",
              "\n",
              "  .colab-df-spinner {\n",
              "    border: 2px solid var(--fill-color);\n",
              "    border-color: transparent;\n",
              "    border-bottom-color: var(--fill-color);\n",
              "    animation:\n",
              "      spin 1s steps(1) infinite;\n",
              "  }\n",
              "\n",
              "  @keyframes spin {\n",
              "    0% {\n",
              "      border-color: transparent;\n",
              "      border-bottom-color: var(--fill-color);\n",
              "      border-left-color: var(--fill-color);\n",
              "    }\n",
              "    20% {\n",
              "      border-color: transparent;\n",
              "      border-left-color: var(--fill-color);\n",
              "      border-top-color: var(--fill-color);\n",
              "    }\n",
              "    30% {\n",
              "      border-color: transparent;\n",
              "      border-left-color: var(--fill-color);\n",
              "      border-top-color: var(--fill-color);\n",
              "      border-right-color: var(--fill-color);\n",
              "    }\n",
              "    40% {\n",
              "      border-color: transparent;\n",
              "      border-right-color: var(--fill-color);\n",
              "      border-top-color: var(--fill-color);\n",
              "    }\n",
              "    60% {\n",
              "      border-color: transparent;\n",
              "      border-right-color: var(--fill-color);\n",
              "    }\n",
              "    80% {\n",
              "      border-color: transparent;\n",
              "      border-right-color: var(--fill-color);\n",
              "      border-bottom-color: var(--fill-color);\n",
              "    }\n",
              "    90% {\n",
              "      border-color: transparent;\n",
              "      border-bottom-color: var(--fill-color);\n",
              "    }\n",
              "  }\n",
              "</style>\n",
              "\n",
              "  <script>\n",
              "    async function quickchart(key) {\n",
              "      const quickchartButtonEl =\n",
              "        document.querySelector('#' + key + ' button');\n",
              "      quickchartButtonEl.disabled = true;  // To prevent multiple clicks.\n",
              "      quickchartButtonEl.classList.add('colab-df-spinner');\n",
              "      try {\n",
              "        const charts = await google.colab.kernel.invokeFunction(\n",
              "            'suggestCharts', [key], {});\n",
              "      } catch (error) {\n",
              "        console.error('Error during call to suggestCharts:', error);\n",
              "      }\n",
              "      quickchartButtonEl.classList.remove('colab-df-spinner');\n",
              "      quickchartButtonEl.classList.add('colab-df-quickchart-complete');\n",
              "    }\n",
              "    (() => {\n",
              "      let quickchartButtonEl =\n",
              "        document.querySelector('#df-32ce75f7-2a15-48a9-bcf1-fe21a529faf4 button');\n",
              "      quickchartButtonEl.style.display =\n",
              "        google.colab.kernel.accessAllowed ? 'block' : 'none';\n",
              "    })();\n",
              "  </script>\n",
              "</div>\n",
              "\n",
              "    </div>\n",
              "  </div>\n"
            ],
            "application/vnd.google.colaboratory.intrinsic+json": {
              "type": "dataframe",
              "variable_name": "corrected_brands",
              "summary": "{\n  \"name\": \"corrected_brands\",\n  \"rows\": 1245,\n  \"fields\": [\n    {\n      \"column\": \"product_id\",\n      \"properties\": {\n        \"dtype\": \"number\",\n        \"std\": 43169160,\n        \"min\": 1001618,\n        \"max\": 100063351,\n        \"num_unique_values\": 1245,\n        \"samples\": [\n          100010780,\n          26205370,\n          100047538\n        ],\n        \"semantic_type\": \"\",\n        \"description\": \"\"\n      }\n    },\n    {\n      \"column\": \"corrected_brand\",\n      \"properties\": {\n        \"dtype\": \"category\",\n        \"num_unique_values\": 390,\n        \"samples\": [\n          \"prestigio\",\n          \"ariston\",\n          \"braun\"\n        ],\n        \"semantic_type\": \"\",\n        \"description\": \"\"\n      }\n    }\n  ]\n}"
            }
          },
          "metadata": {},
          "execution_count": 19
        }
      ]
    }
  ]
}