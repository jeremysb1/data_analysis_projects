{
  "nbformat": 4,
  "nbformat_minor": 0,
  "metadata": {
    "colab": {
      "provenance": [],
      "mount_file_id": "1eBIUUyJtWfZ63n19CkIn5tfSUxWek93P",
      "authorship_tag": "ABX9TyMCdjJiD/YoNAjV1aDpixlA",
      "include_colab_link": true
    },
    "kernelspec": {
      "name": "python3",
      "display_name": "Python 3"
    },
    "language_info": {
      "name": "python"
    }
  },
  "cells": [
    {
      "cell_type": "markdown",
      "metadata": {
        "id": "view-in-github",
        "colab_type": "text"
      },
      "source": [
        "<a href=\"https://colab.research.google.com/github/jeremysb1/data_analysis_projects/blob/main/metrics.ipynb\" target=\"_parent\"><img src=\"https://colab.research.google.com/assets/colab-badge.svg\" alt=\"Open In Colab\"/></a>"
      ]
    },
    {
      "cell_type": "code",
      "execution_count": null,
      "metadata": {
        "id": "UfWtn9JNbZn2"
      },
      "outputs": [],
      "source": []
    },
    {
      "cell_type": "markdown",
      "source": [
        "# Metrics Project\n",
        "\n",
        "The business has just been through its first winter sale. Stakeholders are interested in knowing which products performed best during the Christmas period so they can streamline the products they advertise in future sale periods.\n",
        "\n",
        "I will do this by analyzing up to two months of events data, presented as two separate data sources with identical structures. Events refer not just to sales but to more general customer actions, such as viewing a product on the website or placing it into their virtual cart.\n",
        "\n",
        "Some aspects they care about when ranking their products:\n",
        "\n",
        "*  Volume of sales;\n",
        "*  Total revenue from a single product;\n",
        "*  Popularity measured by the number of unique customers who bought a product;\n",
        "*  Conversion, meaning the percentage of time a product is bought once it has been placed in the virtual shopping cart; and\n",
        "*  Products with increased performance from November to December.\n",
        "\n",
        "The output of the analysis should be recommendations of the best-performing products on whichever dimension(s) I choose.\n",
        "\n",
        "The recommendation could be for single product IDs or broader ones relating to brands or product categories, as long as your choice of “best” product is justified by my analysis.\n",
        "`\n"
      ],
      "metadata": {
        "id": "ZUF2htBtbp3a"
      }
    },
    {
      "cell_type": "markdown",
      "source": [
        "A Minimum Viable Answer should contain:\n",
        "\n",
        "- Measurements of our chosen metrics at a product level (e.g., a table of total revenue in December by product, sorted in descending revenue order)\n",
        "- A ranking so we can highlight top performers\n",
        "Justifications for which metrics were chosen\n",
        "- A summary of our findings in tabular or visual form\n",
        "- Recommendations for further iterations (if requested)\n",
        "\n"
      ],
      "metadata": {
        "id": "V_6PQU8vh2mc"
      }
    },
    {
      "cell_type": "code",
      "source": [
        "import pandas as pd\n",
        "import numpy as np\n",
        "import matplotlib.pyplot as plt\n",
        "\n",
        "november = pd.read_csv('/content/drive/MyDrive/Data Analysis Projects/Metrics/november.csv')\n",
        "december = pd.read_csv('/content/drive/MyDrive/Data Analysis Projects/Metrics/december.csv')\n",
        "\n",
        "events = pd.concat([november, december], axis=0, ignore_index=True)\n",
        "print(events.shape)"
      ],
      "metadata": {
        "colab": {
          "base_uri": "https://localhost:8080/"
        },
        "id": "tdBt8P1Ac1q9",
        "outputId": "40a17b15-6334-4f6a-ac45-5a8e04e96127"
      },
      "execution_count": 1,
      "outputs": [
        {
          "output_type": "stream",
          "name": "stdout",
          "text": [
            "(7033125, 9)\n"
          ]
        }
      ]
    },
    {
      "cell_type": "code",
      "source": [
        "events.isnull().sum()"
      ],
      "metadata": {
        "colab": {
          "base_uri": "https://localhost:8080/"
        },
        "id": "lcrAxffOmOHo",
        "outputId": "28f494a6-d36a-44d7-bb0a-fe3dd289edb7"
      },
      "execution_count": 2,
      "outputs": [
        {
          "output_type": "execute_result",
          "data": {
            "text/plain": [
              "event_time            0\n",
              "event_type            0\n",
              "product_id            0\n",
              "category_id           0\n",
              "category_code         0\n",
              "brand            395108\n",
              "price                 0\n",
              "user_id               0\n",
              "user_session         27\n",
              "dtype: int64"
            ]
          },
          "metadata": {},
          "execution_count": 2
        }
      ]
    },
    {
      "cell_type": "code",
      "source": [
        "events[\"event_time\"] = pd.to_datetime(events[\"event_time\"], format=\"%Y-%m-%d %H:%M:%S %Z\")\n",
        "events[\"event_time\"].agg([\"min\", \"max\"])"
      ],
      "metadata": {
        "colab": {
          "base_uri": "https://localhost:8080/"
        },
        "id": "KwUzWPoFnSIh",
        "outputId": "d56eba2a-68b2-4c39-e288-bc000d9fa916"
      },
      "execution_count": 3,
      "outputs": [
        {
          "output_type": "execute_result",
          "data": {
            "text/plain": [
              "min   2019-11-01 00:00:14+00:00\n",
              "max   2019-12-31 23:59:09+00:00\n",
              "Name: event_time, dtype: datetime64[ns, UTC]"
            ]
          },
          "metadata": {},
          "execution_count": 3
        }
      ]
    },
    {
      "cell_type": "code",
      "source": [
        "(\n",
        "    events\n",
        "    .assign(month=events[\"event_time\"].dt.month,\n",
        "            day=events[\"event_time\"].dt.day)\n",
        "    .groupby(\"month\")\n",
        "    [\"day\"]\n",
        "    .nunique()\n",
        ")"
      ],
      "metadata": {
        "colab": {
          "base_uri": "https://localhost:8080/"
        },
        "id": "Oki8tuvcxmMo",
        "outputId": "0920ce65-eddb-47cf-c10b-e3443b5215a4"
      },
      "execution_count": 4,
      "outputs": [
        {
          "output_type": "execute_result",
          "data": {
            "text/plain": [
              "month\n",
              "11    30\n",
              "12    31\n",
              "Name: day, dtype: int64"
            ]
          },
          "metadata": {},
          "execution_count": 4
        }
      ]
    },
    {
      "cell_type": "code",
      "source": [
        "fig, axis = plt.subplots(figsize=(10, 6))\n",
        "\n",
        "(\n",
        "    events\n",
        "    .assign(month=events[\"event_time\"].dt.month, day=events[\"event_time\"].dt.day)\n",
        "    .groupby([\"month\", \"day\"])\n",
        "    .size()\n",
        "    .plot\n",
        "    .bar(ax=axis)\n",
        ")\n",
        "\n",
        "labels = (\n",
        "    pd.date_range(\n",
        "        events[\"event_time\"].dt.date.min(),\n",
        "        events[\"event_time\"].dt.date.max(),\n",
        "        freq = \"D\")\n",
        "    .strftime(\"%b %d\")\n",
        ")\n",
        "\n",
        "axis.set(title=\"Number of events per calendar day\",\n",
        "         xlabel=\"Number of rows\",\n",
        "         ylabel=\"Calendar day\",\n",
        "         xticklabels=labels)\n",
        "\n",
        "plt.show()"
      ],
      "metadata": {
        "colab": {
          "base_uri": "https://localhost:8080/",
          "height": 599
        },
        "id": "pQIIyzxakPxH",
        "outputId": "31be898d-53db-4e07-c01c-925732138bf9"
      },
      "execution_count": 7,
      "outputs": [
        {
          "output_type": "display_data",
          "data": {
            "text/plain": [
              "<Figure size 1000x600 with 1 Axes>"
            ],
            "image/png": "[encoded data removed]"
          },
          "metadata": {}
        }
      ]
    }
  ]
}