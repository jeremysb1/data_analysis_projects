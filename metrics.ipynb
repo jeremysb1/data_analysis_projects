{
  "nbformat": 4,
  "nbformat_minor": 0,
  "metadata": {
    "colab": {
      "provenance": [],
      "mount_file_id": "1eBIUUyJtWfZ63n19CkIn5tfSUxWek93P",
      "authorship_tag": "ABX9TyMOeXEJuVYMhjrA9ANa9Plh",
      "include_colab_link": true
    },
    "kernelspec": {
      "name": "python3",
      "display_name": "Python 3"
    },
    "language_info": {
      "name": "python"
    }
  },
  "cells": [
    {
      "cell_type": "markdown",
      "metadata": {
        "id": "view-in-github",
        "colab_type": "text"
      },
      "source": [
        "<a href=\"https://colab.research.google.com/github/jeremysb1/data_analysis_projects/blob/main/metrics.ipynb\" target=\"_parent\"><img src=\"https://colab.research.google.com/assets/colab-badge.svg\" alt=\"Open In Colab\"/></a>"
      ]
    },
    {
      "cell_type": "code",
      "execution_count": null,
      "metadata": {
        "id": "UfWtn9JNbZn2"
      },
      "outputs": [],
      "source": []
    },
    {
      "cell_type": "markdown",
      "source": [
        "# Metrics Project\n",
        "\n",
        "The business has just been through its first winter sale. Stakeholders are interested in knowing which products performed best during the Christmas period so they can streamline the products they advertise in future sale periods.\n",
        "\n",
        "I will do this by analyzing up to two months of events data, presented as two separate data sources with identical structures. Events refer not just to sales but to more general customer actions, such as viewing a product on the website or placing it into their virtual cart.\n",
        "\n",
        "Some aspects they care about when ranking their products:\n",
        "\n",
        "*  Volume of sales;\n",
        "*  Total revenue from a single product;\n",
        "*  Popularity measured by the number of unique customers who bought a product;\n",
        "*  Conversion, meaning the percentage of time a product is bought once it has been placed in the virtual shopping cart; and\n",
        "*  Products with increased performance from November to December.\n",
        "\n",
        "The output of the analysis should be recommendations of the best-performing products on whichever dimension(s) I choose.\n",
        "\n",
        "The recommendation could be for single product IDs or broader ones relating to brands or product categories, as long as your choice of “best” product is justified by my analysis.\n",
        "`\n"
      ],
      "metadata": {
        "id": "ZUF2htBtbp3a"
      }
    },
    {
      "cell_type": "markdown",
      "source": [
        "A Minimum Viable Answer should contain:\n",
        "\n",
        "- Measurements of our chosen metrics at a product level (e.g., a table of total revenue in December by product, sorted in descending revenue order)\n",
        "- A ranking so we can highlight top performers\n",
        "Justifications for which metrics were chosen\n",
        "- A summary of our findings in tabular or visual form\n",
        "- Recommendations for further iterations (if requested)\n",
        "\n"
      ],
      "metadata": {
        "id": "V_6PQU8vh2mc"
      }
    },
    {
      "cell_type": "code",
      "source": [
        "import pandas as pd\n",
        "import numpy as np\n",
        "\n",
        "november = pd.read_csv('/content/drive/MyDrive/Data Analysis Projects/Metrics/november.csv')\n",
        "december = pd.read_csv('/content/drive/MyDrive/Data Analysis Projects/Metrics/december.csv')\n",
        "\n",
        "events = pd.concat([november, december], axis=0, ignore_index=True)\n",
        "print(events.shape)"
      ],
      "metadata": {
        "colab": {
          "base_uri": "https://localhost:8080/"
        },
        "id": "tdBt8P1Ac1q9",
        "outputId": "2a5bdab2-17c4-4810-dd0b-4f0492ae069b"
      },
      "execution_count": 1,
      "outputs": [
        {
          "output_type": "stream",
          "name": "stdout",
          "text": [
            "(7033125, 9)\n"
          ]
        }
      ]
    }
  ]
}